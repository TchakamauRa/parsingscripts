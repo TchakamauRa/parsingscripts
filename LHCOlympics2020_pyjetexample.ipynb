{
 "cells": [
  {
   "cell_type": "code",
   "execution_count": 2,
   "metadata": {},
   "outputs": [
    {
     "name": "stderr",
     "output_type": "stream",
     "text": [
      "/usr/local/anaconda3/lib/python3.6/site-packages/h5py/__init__.py:36: FutureWarning: Conversion of the second argument of issubdtype from `float` to `np.floating` is deprecated. In future, it will be treated as `np.float64 == np.dtype(float).type`.\n",
      "  from ._conv import register_converters as _register_converters\n"
     ]
    }
   ],
   "source": [
    "import h5py    \n",
    "import numpy as np \n",
    "import matplotlib.pyplot as plt\n",
    "from pyjet import cluster,DTYPE_PTEPM\n",
    "import pandas as pd"
   ]
  },
  {
   "cell_type": "code",
   "execution_count": 3,
   "metadata": {},
   "outputs": [],
   "source": [
    "f = pd.read_hdf(\"events_anomalydetection.h5\")"
   ]
  },
  {
   "cell_type": "code",
   "execution_count": 4,
   "metadata": {},
   "outputs": [],
   "source": [
    "events_combined = f.T"
   ]
  },
  {
   "cell_type": "code",
   "execution_count": 5,
   "metadata": {},
   "outputs": [
    {
     "data": {
      "text/plain": [
       "(2101, 1100000)"
      ]
     },
     "execution_count": 5,
     "metadata": {},
     "output_type": "execute_result"
    }
   ],
   "source": [
    "np.shape(events_combined)"
   ]
  },
  {
   "cell_type": "code",
   "execution_count": null,
   "metadata": {},
   "outputs": [
    {
     "name": "stdout",
     "output_type": "stream",
     "text": [
      "background 0\n",
      "background 10000\n",
      "background 20000\n",
      "background 30000\n",
      "background 40000\n",
      "background 50000\n",
      "background 60000\n",
      "background 70000\n",
      "background 80000\n",
      "background 90000\n",
      "signal 0\n",
      "signal 10000\n",
      "signal 20000\n",
      "signal 30000\n"
     ]
    }
   ],
   "source": [
    "#Now, let's cluster some jets!\n",
    "leadpT = {}\n",
    "alljets = {}\n",
    "for mytype in ['background','signal']:\n",
    "    leadpT[mytype]=[]\n",
    "    alljets[mytype]=[]\n",
    "    for i in range(100000): #len(events_combined)):\n",
    "        if (i%10000==0):\n",
    "            print(mytype,i)\n",
    "            pass\n",
    "        issignal = events_combined[i][2100]\n",
    "        if (mytype=='background' and issignal):\n",
    "            continue\n",
    "        elif (mytype=='signal' and issignal==0):\n",
    "             continue\n",
    "        pseudojets_input = np.zeros(len([x for x in events_combined[i][::3] if x > 0]), dtype=DTYPE_PTEPM)\n",
    "        for j in range(700):\n",
    "            if (events_combined[i][j*3]>0):\n",
    "                pseudojets_input[j]['pT'] = events_combined[i][j*3]\n",
    "                pseudojets_input[j]['eta'] = events_combined[i][j*3+1]\n",
    "                pseudojets_input[j]['phi'] = events_combined[i][j*3+2]\n",
    "                pass\n",
    "            pass\n",
    "        sequence = cluster(pseudojets_input, R=1.0, p=-1)\n",
    "        jets = sequence.inclusive_jets(ptmin=20)\n",
    "        leadpT[mytype] += [jets[0].pt]\n",
    "        alljets[mytype] += [jets]\n",
    "        pass"
   ]
  },
  {
   "cell_type": "code",
   "execution_count": 108,
   "metadata": {},
   "outputs": [
    {
     "data": {
      "image/png": "[encoded data removed]",
      "text/plain": [
       "<matplotlib.figure.Figure at 0x4ecf706d8>"
      ]
     },
     "metadata": {},
     "output_type": "display_data"
    },
    {
     "data": {
      "text/plain": [
       "<matplotlib.figure.Figure at 0x4ed1276a0>"
      ]
     },
     "metadata": {},
     "output_type": "display_data"
    }
   ],
   "source": [
    "#Let's make some very simple plots.\n",
    "fig = plt.figure()\n",
    "ax = fig.add_subplot(1, 1, 1)\n",
    "n,b,p = plt.hist(leadpT['background'], bins=50, facecolor='r', alpha=0.2,label='background')\n",
    "plt.hist(leadpT['signal'], bins=b, facecolor='b', alpha=0.2,label='signal')\n",
    "plt.xlabel(r'Leading jet $p_{T}$ [GeV]')\n",
    "plt.ylabel('Number of events')\n",
    "plt.legend(loc='upper right')\n",
    "plt.show()\n",
    "plt.savefig(\"leadjetpt.pdf\")"
   ]
  },
  {
   "cell_type": "code",
   "execution_count": 100,
   "metadata": {},
   "outputs": [],
   "source": [
    "mjj={}\n",
    "for mytype in ['background','signal']:\n",
    "    mjj[mytype]=[]\n",
    "    for k in range(len(alljets[mytype])):\n",
    "        E = alljets[mytype][k][0].e+alljets[mytype][k][1].e\n",
    "        px = alljets[mytype][k][0].px+alljets[mytype][k][1].px\n",
    "        py = alljets[mytype][k][0].py+alljets[mytype][k][1].py\n",
    "        pz = alljets[mytype][k][0].pz+alljets[mytype][k][1].pz\n",
    "        mjj[mytype]+=[(E**2-px**2-py**2-pz**2)**0.5]\n",
    "        pass\n",
    "    pass"
   ]
  },
  {
   "cell_type": "code",
   "execution_count": 109,
   "metadata": {},
   "outputs": [
    {
     "data": {
      "image/png": "[encoded data removed]",
      "text/plain": [
       "<matplotlib.figure.Figure at 0x4ed0dc198>"
      ]
     },
     "metadata": {},
     "output_type": "display_data"
    },
    {
     "data": {
      "text/plain": [
       "<matplotlib.figure.Figure at 0x4ed002240>"
      ]
     },
     "metadata": {},
     "output_type": "display_data"
    }
   ],
   "source": [
    "fig = plt.figure()\n",
    "ax = fig.add_subplot(1, 1, 1)\n",
    "n,b,p = plt.hist(mjj['background'], bins=50, facecolor='r', alpha=0.2,label='background')\n",
    "plt.hist(mjj['signal'], bins=b, facecolor='b', alpha=0.2,label='signal')\n",
    "plt.xlabel(r'$m_{JJ}$ [GeV]')\n",
    "plt.ylabel('Number of events')\n",
    "plt.legend(loc='upper right')\n",
    "plt.show()\n",
    "plt.savefig(\"mjj.pdf\")"
   ]
  },
  {
   "cell_type": "code",
   "execution_count": null,
   "metadata": {},
   "outputs": [],
   "source": []
  }
 ],
 "metadata": {
  "kernelspec": {
   "display_name": "Python 3",
   "language": "python",
   "name": "python3"
  },
  "language_info": {
   "codemirror_mode": {
    "name": "ipython",
    "version": 3
   },
   "file_extension": ".py",
   "mimetype": "text/x-python",
   "name": "python",
   "nbconvert_exporter": "python",
   "pygments_lexer": "ipython3",
   "version": "3.6.8"
  }
 },
 "nbformat": 4,
 "nbformat_minor": 2
}
